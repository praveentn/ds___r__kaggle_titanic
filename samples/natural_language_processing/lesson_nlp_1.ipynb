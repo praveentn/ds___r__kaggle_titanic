{
 "cells": [
  {
   "cell_type": "code",
   "execution_count": 1,
   "metadata": {},
   "outputs": [],
   "source": [
    "# Natural Language Processing"
   ]
  },
  {
   "cell_type": "code",
   "execution_count": 2,
   "metadata": {},
   "outputs": [],
   "source": [
    "import nltk"
   ]
  },
  {
   "cell_type": "code",
   "execution_count": 3,
   "metadata": {},
   "outputs": [],
   "source": [
    "import os"
   ]
  },
  {
   "cell_type": "code",
   "execution_count": 4,
   "metadata": {},
   "outputs": [
    {
     "data": {
      "text/plain": [
       "'C:\\\\Users\\\\praveen\\\\DS_Notebooks'"
      ]
     },
     "execution_count": 4,
     "metadata": {},
     "output_type": "execute_result"
    }
   ],
   "source": [
    "os.getcwd()"
   ]
  },
  {
   "cell_type": "code",
   "execution_count": 5,
   "metadata": {},
   "outputs": [
    {
     "name": "stdout",
     "output_type": "stream",
     "text": [
      "showing info https://raw.githubusercontent.com/nltk/nltk_data/gh-pages/index.xml\n"
     ]
    },
    {
     "data": {
      "text/plain": [
       "True"
      ]
     },
     "execution_count": 5,
     "metadata": {},
     "output_type": "execute_result"
    }
   ],
   "source": [
    "nltk.download()"
   ]
  },
  {
   "cell_type": "code",
   "execution_count": 6,
   "metadata": {},
   "outputs": [],
   "source": [
    "# installed stopwords"
   ]
  },
  {
   "cell_type": "code",
   "execution_count": 8,
   "metadata": {},
   "outputs": [],
   "source": [
    "import string"
   ]
  },
  {
   "cell_type": "code",
   "execution_count": 9,
   "metadata": {},
   "outputs": [],
   "source": [
    "from nltk.corpus import stopwords"
   ]
  },
  {
   "cell_type": "code",
   "execution_count": 11,
   "metadata": {},
   "outputs": [
    {
     "data": {
      "text/plain": [
       "['i', 'me', 'my', 'myself', 'we', 'our', 'ours', 'ourselves', 'you', \"you're\"]"
      ]
     },
     "execution_count": 11,
     "metadata": {},
     "output_type": "execute_result"
    }
   ],
   "source": [
    "stopwords.words('english')[:10]"
   ]
  },
  {
   "cell_type": "code",
   "execution_count": 15,
   "metadata": {},
   "outputs": [],
   "source": [
    "sentence = \"This is my first sentence. Wow! We are doing just fine!!\""
   ]
  },
  {
   "cell_type": "code",
   "execution_count": 16,
   "metadata": {},
   "outputs": [],
   "source": [
    "# eliminate punctuation\n",
    "no_punctuation = [char for char in sentence if char not in string.punctuation]"
   ]
  },
  {
   "cell_type": "code",
   "execution_count": 17,
   "metadata": {},
   "outputs": [
    {
     "data": {
      "text/plain": [
       "['T',\n",
       " 'h',\n",
       " 'i',\n",
       " 's',\n",
       " ' ',\n",
       " 'i',\n",
       " 's',\n",
       " ' ',\n",
       " 'm',\n",
       " 'y',\n",
       " ' ',\n",
       " 'f',\n",
       " 'i',\n",
       " 'r',\n",
       " 's',\n",
       " 't',\n",
       " ' ',\n",
       " 's',\n",
       " 'e',\n",
       " 'n',\n",
       " 't',\n",
       " 'e',\n",
       " 'n',\n",
       " 'c',\n",
       " 'e',\n",
       " ' ',\n",
       " 'W',\n",
       " 'o',\n",
       " 'w',\n",
       " ' ',\n",
       " 'W',\n",
       " 'e',\n",
       " ' ',\n",
       " 'a',\n",
       " 'r',\n",
       " 'e',\n",
       " ' ',\n",
       " 'd',\n",
       " 'o',\n",
       " 'i',\n",
       " 'n',\n",
       " 'g',\n",
       " ' ',\n",
       " 'j',\n",
       " 'u',\n",
       " 's',\n",
       " 't',\n",
       " ' ',\n",
       " 'f',\n",
       " 'i',\n",
       " 'n',\n",
       " 'e']"
      ]
     },
     "execution_count": 17,
     "metadata": {},
     "output_type": "execute_result"
    }
   ],
   "source": [
    "no_punctuation"
   ]
  },
  {
   "cell_type": "code",
   "execution_count": 18,
   "metadata": {},
   "outputs": [],
   "source": [
    "sentence = ''.join(no_punctuation)"
   ]
  },
  {
   "cell_type": "code",
   "execution_count": 19,
   "metadata": {},
   "outputs": [
    {
     "data": {
      "text/plain": [
       "'This is my first sentence Wow We are doing just fine'"
      ]
     },
     "execution_count": 19,
     "metadata": {},
     "output_type": "execute_result"
    }
   ],
   "source": [
    "sentence"
   ]
  },
  {
   "cell_type": "code",
   "execution_count": 21,
   "metadata": {},
   "outputs": [],
   "source": [
    "# eliminate stop words\n",
    "clean_sentence = [word for word in sentence.split() if word.lower() not in stopwords.words('english')]"
   ]
  },
  {
   "cell_type": "code",
   "execution_count": 22,
   "metadata": {},
   "outputs": [
    {
     "data": {
      "text/plain": [
       "['first', 'sentence', 'Wow', 'fine']"
      ]
     },
     "execution_count": 22,
     "metadata": {},
     "output_type": "execute_result"
    }
   ],
   "source": [
    "clean_sentence"
   ]
  },
  {
   "cell_type": "code",
   "execution_count": 23,
   "metadata": {},
   "outputs": [],
   "source": [
    "# NLP Libraries"
   ]
  },
  {
   "cell_type": "code",
   "execution_count": 24,
   "metadata": {},
   "outputs": [],
   "source": [
    "from sklearn.datasets import load_digits"
   ]
  },
  {
   "cell_type": "code",
   "execution_count": 25,
   "metadata": {},
   "outputs": [],
   "source": [
    "digit_ds = load_digits()"
   ]
  },
  {
   "cell_type": "code",
   "execution_count": 26,
   "metadata": {},
   "outputs": [
    {
     "data": {
      "text/plain": [
       "\"Optical Recognition of Handwritten Digits Data Set\\n===================================================\\n\\nNotes\\n-----\\nData Set Characteristics:\\n    :Number of Instances: 5620\\n    :Number of Attributes: 64\\n    :Attribute Information: 8x8 image of integer pixels in the range 0..16.\\n    :Missing Attribute Values: None\\n    :Creator: E. Alpaydin (alpaydin '@' boun.edu.tr)\\n    :Date: July; 1998\\n\\nThis is a copy of the test set of the UCI ML hand-written digits datasets\\nhttp://archive.ics.uci.edu/ml/datasets/Optical+Recognition+of+Handwritten+Digits\\n\\nThe data set contains images of hand-written digits: 10 classes where\\neach class refers to a digit.\\n\\nPreprocessing programs made available by NIST were used to extract\\nnormalized bitmaps of handwritten digits from a preprinted form. From a\\ntotal of 43 people, 30 contributed to the training set and different 13\\nto the test set. 32x32 bitmaps are divided into nonoverlapping blocks of\\n4x4 and the number of on pixels are counted in each block. This generates\\nan input matrix of 8x8 where each element is an integer in the range\\n0..16. This reduces dimensionality and gives invariance to small\\ndistortions.\\n\\nFor info on NIST preprocessing routines, see M. D. Garris, J. L. Blue, G.\\nT. Candela, D. L. Dimmick, J. Geist, P. J. Grother, S. A. Janet, and C.\\nL. Wilson, NIST Form-Based Handprint Recognition System, NISTIR 5469,\\n1994.\\n\\nReferences\\n----------\\n  - C. Kaynak (1995) Methods of Combining Multiple Classifiers and Their\\n    Applications to Handwritten Digit Recognition, MSc Thesis, Institute of\\n    Graduate Studies in Science and Engineering, Bogazici University.\\n  - E. Alpaydin, C. Kaynak (1998) Cascading Classifiers, Kybernetika.\\n  - Ken Tang and Ponnuthurai N. Suganthan and Xi Yao and A. Kai Qin.\\n    Linear dimensionalityreduction using relevance weighted LDA. School of\\n    Electrical and Electronic Engineering Nanyang Technological University.\\n    2005.\\n  - Claudio Gentile. A New Approximate Maximal Margin Classification\\n    Algorithm. NIPS. 2000.\\n\""
      ]
     },
     "execution_count": 26,
     "metadata": {},
     "output_type": "execute_result"
    }
   ],
   "source": [
    "digit_ds.DESCR"
   ]
  },
  {
   "cell_type": "code",
   "execution_count": 28,
   "metadata": {},
   "outputs": [
    {
     "data": {
      "text/plain": [
       "array([0, 1, 2, ..., 8, 9, 8])"
      ]
     },
     "execution_count": 28,
     "metadata": {},
     "output_type": "execute_result"
    }
   ],
   "source": [
    "# view target\n",
    "digit_ds.target"
   ]
  },
  {
   "cell_type": "code",
   "execution_count": 29,
   "metadata": {},
   "outputs": [],
   "source": [
    "# feature extraction"
   ]
  },
  {
   "cell_type": "code",
   "execution_count": 30,
   "metadata": {},
   "outputs": [],
   "source": [
    "from sklearn.feature_extraction.text import CountVectorizer"
   ]
  },
  {
   "cell_type": "code",
   "execution_count": 31,
   "metadata": {},
   "outputs": [],
   "source": [
    "vcrzr = CountVectorizer()"
   ]
  },
  {
   "cell_type": "code",
   "execution_count": 32,
   "metadata": {},
   "outputs": [],
   "source": [
    "doc1 = \"Hi how are you\"\n",
    "doc2 = \"Circle is talking to me\"\n",
    "doc3 = \"It is an amazing experience\""
   ]
  },
  {
   "cell_type": "code",
   "execution_count": 33,
   "metadata": {},
   "outputs": [],
   "source": [
    "ldocs = [doc1, doc2, doc3]"
   ]
  },
  {
   "cell_type": "code",
   "execution_count": 35,
   "metadata": {},
   "outputs": [],
   "source": [
    "bag_of_words = vcrzr.fit(ldocs)"
   ]
  },
  {
   "cell_type": "code",
   "execution_count": 36,
   "metadata": {},
   "outputs": [
    {
     "data": {
      "text/plain": [
       "CountVectorizer(analyzer='word', binary=False, decode_error='strict',\n",
       "        dtype=<class 'numpy.int64'>, encoding='utf-8', input='content',\n",
       "        lowercase=True, max_df=1.0, max_features=None, min_df=1,\n",
       "        ngram_range=(1, 1), preprocessor=None, stop_words=None,\n",
       "        strip_accents=None, token_pattern='(?u)\\\\b\\\\w\\\\w+\\\\b',\n",
       "        tokenizer=None, vocabulary=None)"
      ]
     },
     "execution_count": 36,
     "metadata": {},
     "output_type": "execute_result"
    }
   ],
   "source": [
    "bag_of_words"
   ]
  },
  {
   "cell_type": "code",
   "execution_count": 37,
   "metadata": {},
   "outputs": [],
   "source": [
    "bag_of_words = vcrzr.transform(ldocs)"
   ]
  },
  {
   "cell_type": "code",
   "execution_count": 38,
   "metadata": {},
   "outputs": [
    {
     "data": {
      "text/plain": [
       "<3x13 sparse matrix of type '<class 'numpy.int64'>'\n",
       "\twith 14 stored elements in Compressed Sparse Row format>"
      ]
     },
     "execution_count": 38,
     "metadata": {},
     "output_type": "execute_result"
    }
   ],
   "source": [
    "bag_of_words"
   ]
  },
  {
   "cell_type": "code",
   "execution_count": 39,
   "metadata": {},
   "outputs": [
    {
     "name": "stdout",
     "output_type": "stream",
     "text": [
      "  (0, 2)\t1\n",
      "  (0, 5)\t1\n",
      "  (0, 6)\t1\n",
      "  (0, 12)\t1\n",
      "  (1, 3)\t1\n",
      "  (1, 7)\t1\n",
      "  (1, 9)\t1\n",
      "  (1, 10)\t1\n",
      "  (1, 11)\t1\n",
      "  (2, 0)\t1\n",
      "  (2, 1)\t1\n",
      "  (2, 4)\t1\n",
      "  (2, 7)\t1\n",
      "  (2, 8)\t1\n"
     ]
    }
   ],
   "source": [
    "print(bag_of_words)"
   ]
  },
  {
   "cell_type": "code",
   "execution_count": 40,
   "metadata": {},
   "outputs": [
    {
     "name": "stdout",
     "output_type": "stream",
     "text": [
      "0\n"
     ]
    }
   ],
   "source": [
    "print(vcrzr.vocabulary_.get('amazing'))"
   ]
  },
  {
   "cell_type": "code",
   "execution_count": 41,
   "metadata": {},
   "outputs": [
    {
     "name": "stdout",
     "output_type": "stream",
     "text": [
      "7\n"
     ]
    }
   ],
   "source": [
    "print(vcrzr.vocabulary_.get('is'))"
   ]
  },
  {
   "cell_type": "code",
   "execution_count": 42,
   "metadata": {},
   "outputs": [
    {
     "data": {
      "text/plain": [
       "scipy.sparse.csr.csr_matrix"
      ]
     },
     "execution_count": 42,
     "metadata": {},
     "output_type": "execute_result"
    }
   ],
   "source": [
    "type(bag_of_words)"
   ]
  },
  {
   "cell_type": "code",
   "execution_count": 43,
   "metadata": {},
   "outputs": [],
   "source": [
    "# pipeline and grid search"
   ]
  },
  {
   "cell_type": "code",
   "execution_count": 44,
   "metadata": {},
   "outputs": [],
   "source": [
    "import pandas as pd\n",
    "import string\n",
    "from pprint import pprint\n",
    "from time import time"
   ]
  },
  {
   "cell_type": "code",
   "execution_count": 45,
   "metadata": {},
   "outputs": [
    {
     "data": {
      "text/plain": [
       "'C:\\\\Users\\\\praveen\\\\DS_Notebooks'"
      ]
     },
     "execution_count": 45,
     "metadata": {},
     "output_type": "execute_result"
    }
   ],
   "source": [
    "os.getcwd()"
   ]
  },
  {
   "cell_type": "code",
   "execution_count": 62,
   "metadata": {},
   "outputs": [],
   "source": [
    "# import dataset\n",
    "\n",
    "ds = pd.read_csv('file.txt', sep='\\t', names=['response','message'])"
   ]
  },
  {
   "cell_type": "code",
   "execution_count": 63,
   "metadata": {},
   "outputs": [
    {
     "data": {
      "text/html": [
       "<div>\n",
       "<style scoped>\n",
       "    .dataframe tbody tr th:only-of-type {\n",
       "        vertical-align: middle;\n",
       "    }\n",
       "\n",
       "    .dataframe tbody tr th {\n",
       "        vertical-align: top;\n",
       "    }\n",
       "\n",
       "    .dataframe thead th {\n",
       "        text-align: right;\n",
       "    }\n",
       "</style>\n",
       "<table border=\"1\" class=\"dataframe\">\n",
       "  <thead>\n",
       "    <tr style=\"text-align: right;\">\n",
       "      <th></th>\n",
       "      <th>response</th>\n",
       "      <th>message</th>\n",
       "    </tr>\n",
       "  </thead>\n",
       "  <tbody>\n",
       "    <tr>\n",
       "      <th>1</th>\n",
       "      <td>aa</td>\n",
       "      <td>ab cd ef gh ab cd ef gh ab cd ef ghab cd ef gh</td>\n",
       "    </tr>\n",
       "    <tr>\n",
       "      <th>2</th>\n",
       "      <td>ba</td>\n",
       "      <td>bb cd ef gh ab cd ef gh ab cd ef ghab cd ef gh</td>\n",
       "    </tr>\n",
       "    <tr>\n",
       "      <th>3</th>\n",
       "      <td>ca</td>\n",
       "      <td>cb cd ef gh ab cd ef gh ab cd ef ghab cd ef gh</td>\n",
       "    </tr>\n",
       "    <tr>\n",
       "      <th>4</th>\n",
       "      <td>da</td>\n",
       "      <td>db cd ef gh ab cd ef gh ab cd ef ghab cd ef gh</td>\n",
       "    </tr>\n",
       "    <tr>\n",
       "      <th>5</th>\n",
       "      <td>ea</td>\n",
       "      <td>eb cd ef gh ab cd ef gh ab cd ef ghab cd ef gh</td>\n",
       "    </tr>\n",
       "    <tr>\n",
       "      <th>6</th>\n",
       "      <td>fa</td>\n",
       "      <td>fb cd ef gh ab cd ef gh ab cd ef ghab cd ef gh</td>\n",
       "    </tr>\n",
       "    <tr>\n",
       "      <th>7</th>\n",
       "      <td>ga</td>\n",
       "      <td>gb cd ef gh ab cd ef gh ab cd ef ghab cd ef gh</td>\n",
       "    </tr>\n",
       "    <tr>\n",
       "      <th>8</th>\n",
       "      <td>ha</td>\n",
       "      <td>hb cd ef gh ab cd ef gh ab cd ef ghab cd ef gh</td>\n",
       "    </tr>\n",
       "    <tr>\n",
       "      <th>9</th>\n",
       "      <td>ia</td>\n",
       "      <td>ib cd ef gh ab cd ef gh ab cd ef ghab cd ef gh</td>\n",
       "    </tr>\n",
       "    <tr>\n",
       "      <th>10</th>\n",
       "      <td>ja</td>\n",
       "      <td>jb cd ef gh ab cd ef gh ab cd ef ghab cd ef gh</td>\n",
       "    </tr>\n",
       "    <tr>\n",
       "      <th>11</th>\n",
       "      <td>ka</td>\n",
       "      <td>kb cd ef gh ab cd ef gh ab cd ef ghab cd ef gh</td>\n",
       "    </tr>\n",
       "    <tr>\n",
       "      <th>12</th>\n",
       "      <td>la</td>\n",
       "      <td>lb cd ef gh ab cd ef gh ab cd ef ghab cd ef gh</td>\n",
       "    </tr>\n",
       "    <tr>\n",
       "      <th>13</th>\n",
       "      <td>ma</td>\n",
       "      <td>mb cd ef gh ab cd ef gh ab cd ef ghab cd ef gh</td>\n",
       "    </tr>\n",
       "    <tr>\n",
       "      <th>1</th>\n",
       "      <td>aa</td>\n",
       "      <td>ab cd ef gh ab cd ef gh ab cd ef ghab cd ef gh</td>\n",
       "    </tr>\n",
       "    <tr>\n",
       "      <th>2</th>\n",
       "      <td>ba</td>\n",
       "      <td>bb cd ef gh ab cd ef gh ab cd ef ghab cd ef gh</td>\n",
       "    </tr>\n",
       "    <tr>\n",
       "      <th>3</th>\n",
       "      <td>ca</td>\n",
       "      <td>cb cd ef gh ab cd ef gh ab cd ef ghab cd ef gh</td>\n",
       "    </tr>\n",
       "    <tr>\n",
       "      <th>4</th>\n",
       "      <td>da</td>\n",
       "      <td>db cd ef gh ab cd ef gh ab cd ef ghab cd ef gh</td>\n",
       "    </tr>\n",
       "    <tr>\n",
       "      <th>5</th>\n",
       "      <td>ea</td>\n",
       "      <td>eb cd ef gh ab cd ef gh ab cd ef ghab cd ef gh</td>\n",
       "    </tr>\n",
       "    <tr>\n",
       "      <th>6</th>\n",
       "      <td>fa</td>\n",
       "      <td>fb cd ef gh ab cd ef gh ab cd ef ghab cd ef gh</td>\n",
       "    </tr>\n",
       "    <tr>\n",
       "      <th>7</th>\n",
       "      <td>ga</td>\n",
       "      <td>gb cd ef gh ab cd ef gh ab cd ef ghab cd ef gh</td>\n",
       "    </tr>\n",
       "    <tr>\n",
       "      <th>8</th>\n",
       "      <td>ha</td>\n",
       "      <td>hb cd ef gh ab cd ef gh ab cd ef ghab cd ef gh</td>\n",
       "    </tr>\n",
       "    <tr>\n",
       "      <th>9</th>\n",
       "      <td>ia</td>\n",
       "      <td>ib cd ef gh ab cd ef gh ab cd ef ghab cd ef gh</td>\n",
       "    </tr>\n",
       "    <tr>\n",
       "      <th>10</th>\n",
       "      <td>ja</td>\n",
       "      <td>jb cd ef gh ab cd ef gh ab cd ef ghab cd ef gh</td>\n",
       "    </tr>\n",
       "    <tr>\n",
       "      <th>11</th>\n",
       "      <td>ka</td>\n",
       "      <td>kb cd ef gh ab cd ef gh ab cd ef ghab cd ef gh</td>\n",
       "    </tr>\n",
       "    <tr>\n",
       "      <th>12</th>\n",
       "      <td>la</td>\n",
       "      <td>lb cd ef gh ab cd ef gh ab cd ef ghab cd ef gh</td>\n",
       "    </tr>\n",
       "    <tr>\n",
       "      <th>13</th>\n",
       "      <td>ma</td>\n",
       "      <td>mb cd ef gh ab cd ef gh ab cd ef ghab cd ef gh</td>\n",
       "    </tr>\n",
       "    <tr>\n",
       "      <th>1</th>\n",
       "      <td>aa</td>\n",
       "      <td>ab cd ef gh ab cd ef gh ab cd ef ghab cd ef gh</td>\n",
       "    </tr>\n",
       "    <tr>\n",
       "      <th>2</th>\n",
       "      <td>ba</td>\n",
       "      <td>bb cd ef gh ab cd ef gh ab cd ef ghab cd ef gh</td>\n",
       "    </tr>\n",
       "    <tr>\n",
       "      <th>3</th>\n",
       "      <td>ca</td>\n",
       "      <td>cb cd ef gh ab cd ef gh ab cd ef ghab cd ef gh</td>\n",
       "    </tr>\n",
       "    <tr>\n",
       "      <th>4</th>\n",
       "      <td>da</td>\n",
       "      <td>db cd ef gh ab cd ef gh ab cd ef ghab cd ef gh</td>\n",
       "    </tr>\n",
       "    <tr>\n",
       "      <th>...</th>\n",
       "      <td>...</td>\n",
       "      <td>...</td>\n",
       "    </tr>\n",
       "    <tr>\n",
       "      <th>10</th>\n",
       "      <td>ja</td>\n",
       "      <td>jb cd ef gh ab cd ef gh ab cd ef ghab cd ef gh</td>\n",
       "    </tr>\n",
       "    <tr>\n",
       "      <th>11</th>\n",
       "      <td>ka</td>\n",
       "      <td>kb cd ef gh ab cd ef gh ab cd ef ghab cd ef gh</td>\n",
       "    </tr>\n",
       "    <tr>\n",
       "      <th>12</th>\n",
       "      <td>la</td>\n",
       "      <td>lb cd ef gh ab cd ef gh ab cd ef ghab cd ef gh</td>\n",
       "    </tr>\n",
       "    <tr>\n",
       "      <th>13</th>\n",
       "      <td>ma</td>\n",
       "      <td>mb cd ef gh ab cd ef gh ab cd ef ghab cd ef gh</td>\n",
       "    </tr>\n",
       "    <tr>\n",
       "      <th>1</th>\n",
       "      <td>aa</td>\n",
       "      <td>ab cd ef gh ab cd ef gh ab cd ef ghab cd ef gh</td>\n",
       "    </tr>\n",
       "    <tr>\n",
       "      <th>2</th>\n",
       "      <td>ba</td>\n",
       "      <td>bb cd ef gh ab cd ef gh ab cd ef ghab cd ef gh</td>\n",
       "    </tr>\n",
       "    <tr>\n",
       "      <th>3</th>\n",
       "      <td>ca</td>\n",
       "      <td>cb cd ef gh ab cd ef gh ab cd ef ghab cd ef gh</td>\n",
       "    </tr>\n",
       "    <tr>\n",
       "      <th>4</th>\n",
       "      <td>da</td>\n",
       "      <td>db cd ef gh ab cd ef gh ab cd ef ghab cd ef gh</td>\n",
       "    </tr>\n",
       "    <tr>\n",
       "      <th>5</th>\n",
       "      <td>ea</td>\n",
       "      <td>eb cd ef gh ab cd ef gh ab cd ef ghab cd ef gh</td>\n",
       "    </tr>\n",
       "    <tr>\n",
       "      <th>6</th>\n",
       "      <td>fa</td>\n",
       "      <td>fb cd ef gh ab cd ef gh ab cd ef ghab cd ef gh</td>\n",
       "    </tr>\n",
       "    <tr>\n",
       "      <th>7</th>\n",
       "      <td>ga</td>\n",
       "      <td>gb cd ef gh ab cd ef gh ab cd ef ghab cd ef gh</td>\n",
       "    </tr>\n",
       "    <tr>\n",
       "      <th>8</th>\n",
       "      <td>ha</td>\n",
       "      <td>hb cd ef gh ab cd ef gh ab cd ef ghab cd ef gh</td>\n",
       "    </tr>\n",
       "    <tr>\n",
       "      <th>9</th>\n",
       "      <td>ia</td>\n",
       "      <td>ib cd ef gh ab cd ef gh ab cd ef ghab cd ef gh</td>\n",
       "    </tr>\n",
       "    <tr>\n",
       "      <th>10</th>\n",
       "      <td>ja</td>\n",
       "      <td>jb cd ef gh ab cd ef gh ab cd ef ghab cd ef gh</td>\n",
       "    </tr>\n",
       "    <tr>\n",
       "      <th>11</th>\n",
       "      <td>ka</td>\n",
       "      <td>kb cd ef gh ab cd ef gh ab cd ef ghab cd ef gh</td>\n",
       "    </tr>\n",
       "    <tr>\n",
       "      <th>12</th>\n",
       "      <td>la</td>\n",
       "      <td>lb cd ef gh ab cd ef gh ab cd ef ghab cd ef gh</td>\n",
       "    </tr>\n",
       "    <tr>\n",
       "      <th>13</th>\n",
       "      <td>ma</td>\n",
       "      <td>mb cd ef gh ab cd ef gh ab cd ef ghab cd ef gh</td>\n",
       "    </tr>\n",
       "    <tr>\n",
       "      <th>1</th>\n",
       "      <td>aa</td>\n",
       "      <td>ab cd ef gh ab cd ef gh ab cd ef ghab cd ef gh</td>\n",
       "    </tr>\n",
       "    <tr>\n",
       "      <th>2</th>\n",
       "      <td>ba</td>\n",
       "      <td>bb cd ef gh ab cd ef gh ab cd ef ghab cd ef gh</td>\n",
       "    </tr>\n",
       "    <tr>\n",
       "      <th>3</th>\n",
       "      <td>ca</td>\n",
       "      <td>cb cd ef gh ab cd ef gh ab cd ef ghab cd ef gh</td>\n",
       "    </tr>\n",
       "    <tr>\n",
       "      <th>4</th>\n",
       "      <td>da</td>\n",
       "      <td>db cd ef gh ab cd ef gh ab cd ef ghab cd ef gh</td>\n",
       "    </tr>\n",
       "    <tr>\n",
       "      <th>5</th>\n",
       "      <td>ea</td>\n",
       "      <td>eb cd ef gh ab cd ef gh ab cd ef ghab cd ef gh</td>\n",
       "    </tr>\n",
       "    <tr>\n",
       "      <th>6</th>\n",
       "      <td>fa</td>\n",
       "      <td>fb cd ef gh ab cd ef gh ab cd ef ghab cd ef gh</td>\n",
       "    </tr>\n",
       "    <tr>\n",
       "      <th>7</th>\n",
       "      <td>ga</td>\n",
       "      <td>gb cd ef gh ab cd ef gh ab cd ef ghab cd ef gh</td>\n",
       "    </tr>\n",
       "    <tr>\n",
       "      <th>8</th>\n",
       "      <td>ha</td>\n",
       "      <td>hb cd ef gh ab cd ef gh ab cd ef ghab cd ef gh</td>\n",
       "    </tr>\n",
       "    <tr>\n",
       "      <th>9</th>\n",
       "      <td>ia</td>\n",
       "      <td>ib cd ef gh ab cd ef gh ab cd ef ghab cd ef gh</td>\n",
       "    </tr>\n",
       "    <tr>\n",
       "      <th>10</th>\n",
       "      <td>ja</td>\n",
       "      <td>jb cd ef gh ab cd ef gh ab cd ef ghab cd ef gh</td>\n",
       "    </tr>\n",
       "    <tr>\n",
       "      <th>11</th>\n",
       "      <td>ka</td>\n",
       "      <td>kb cd ef gh ab cd ef gh ab cd ef ghab cd ef gh</td>\n",
       "    </tr>\n",
       "    <tr>\n",
       "      <th>12</th>\n",
       "      <td>la</td>\n",
       "      <td>lb cd ef gh ab cd ef gh ab cd ef ghab cd ef gh</td>\n",
       "    </tr>\n",
       "    <tr>\n",
       "      <th>13</th>\n",
       "      <td>ma</td>\n",
       "      <td>mb cd ef gh ab cd ef gh ab cd ef ghab cd ef gh</td>\n",
       "    </tr>\n",
       "  </tbody>\n",
       "</table>\n",
       "<p>5434 rows × 2 columns</p>\n",
       "</div>"
      ],
      "text/plain": [
       "   response                                         message\n",
       "1        aa  ab cd ef gh ab cd ef gh ab cd ef ghab cd ef gh\n",
       "2        ba  bb cd ef gh ab cd ef gh ab cd ef ghab cd ef gh\n",
       "3        ca  cb cd ef gh ab cd ef gh ab cd ef ghab cd ef gh\n",
       "4        da  db cd ef gh ab cd ef gh ab cd ef ghab cd ef gh\n",
       "5        ea  eb cd ef gh ab cd ef gh ab cd ef ghab cd ef gh\n",
       "6        fa  fb cd ef gh ab cd ef gh ab cd ef ghab cd ef gh\n",
       "7        ga  gb cd ef gh ab cd ef gh ab cd ef ghab cd ef gh\n",
       "8        ha  hb cd ef gh ab cd ef gh ab cd ef ghab cd ef gh\n",
       "9        ia  ib cd ef gh ab cd ef gh ab cd ef ghab cd ef gh\n",
       "10       ja  jb cd ef gh ab cd ef gh ab cd ef ghab cd ef gh\n",
       "11       ka  kb cd ef gh ab cd ef gh ab cd ef ghab cd ef gh\n",
       "12       la  lb cd ef gh ab cd ef gh ab cd ef ghab cd ef gh\n",
       "13       ma  mb cd ef gh ab cd ef gh ab cd ef ghab cd ef gh\n",
       "1        aa  ab cd ef gh ab cd ef gh ab cd ef ghab cd ef gh\n",
       "2        ba  bb cd ef gh ab cd ef gh ab cd ef ghab cd ef gh\n",
       "3        ca  cb cd ef gh ab cd ef gh ab cd ef ghab cd ef gh\n",
       "4        da  db cd ef gh ab cd ef gh ab cd ef ghab cd ef gh\n",
       "5        ea  eb cd ef gh ab cd ef gh ab cd ef ghab cd ef gh\n",
       "6        fa  fb cd ef gh ab cd ef gh ab cd ef ghab cd ef gh\n",
       "7        ga  gb cd ef gh ab cd ef gh ab cd ef ghab cd ef gh\n",
       "8        ha  hb cd ef gh ab cd ef gh ab cd ef ghab cd ef gh\n",
       "9        ia  ib cd ef gh ab cd ef gh ab cd ef ghab cd ef gh\n",
       "10       ja  jb cd ef gh ab cd ef gh ab cd ef ghab cd ef gh\n",
       "11       ka  kb cd ef gh ab cd ef gh ab cd ef ghab cd ef gh\n",
       "12       la  lb cd ef gh ab cd ef gh ab cd ef ghab cd ef gh\n",
       "13       ma  mb cd ef gh ab cd ef gh ab cd ef ghab cd ef gh\n",
       "1        aa  ab cd ef gh ab cd ef gh ab cd ef ghab cd ef gh\n",
       "2        ba  bb cd ef gh ab cd ef gh ab cd ef ghab cd ef gh\n",
       "3        ca  cb cd ef gh ab cd ef gh ab cd ef ghab cd ef gh\n",
       "4        da  db cd ef gh ab cd ef gh ab cd ef ghab cd ef gh\n",
       "..      ...                                             ...\n",
       "10       ja  jb cd ef gh ab cd ef gh ab cd ef ghab cd ef gh\n",
       "11       ka  kb cd ef gh ab cd ef gh ab cd ef ghab cd ef gh\n",
       "12       la  lb cd ef gh ab cd ef gh ab cd ef ghab cd ef gh\n",
       "13       ma  mb cd ef gh ab cd ef gh ab cd ef ghab cd ef gh\n",
       "1        aa  ab cd ef gh ab cd ef gh ab cd ef ghab cd ef gh\n",
       "2        ba  bb cd ef gh ab cd ef gh ab cd ef ghab cd ef gh\n",
       "3        ca  cb cd ef gh ab cd ef gh ab cd ef ghab cd ef gh\n",
       "4        da  db cd ef gh ab cd ef gh ab cd ef ghab cd ef gh\n",
       "5        ea  eb cd ef gh ab cd ef gh ab cd ef ghab cd ef gh\n",
       "6        fa  fb cd ef gh ab cd ef gh ab cd ef ghab cd ef gh\n",
       "7        ga  gb cd ef gh ab cd ef gh ab cd ef ghab cd ef gh\n",
       "8        ha  hb cd ef gh ab cd ef gh ab cd ef ghab cd ef gh\n",
       "9        ia  ib cd ef gh ab cd ef gh ab cd ef ghab cd ef gh\n",
       "10       ja  jb cd ef gh ab cd ef gh ab cd ef ghab cd ef gh\n",
       "11       ka  kb cd ef gh ab cd ef gh ab cd ef ghab cd ef gh\n",
       "12       la  lb cd ef gh ab cd ef gh ab cd ef ghab cd ef gh\n",
       "13       ma  mb cd ef gh ab cd ef gh ab cd ef ghab cd ef gh\n",
       "1        aa  ab cd ef gh ab cd ef gh ab cd ef ghab cd ef gh\n",
       "2        ba  bb cd ef gh ab cd ef gh ab cd ef ghab cd ef gh\n",
       "3        ca  cb cd ef gh ab cd ef gh ab cd ef ghab cd ef gh\n",
       "4        da  db cd ef gh ab cd ef gh ab cd ef ghab cd ef gh\n",
       "5        ea  eb cd ef gh ab cd ef gh ab cd ef ghab cd ef gh\n",
       "6        fa  fb cd ef gh ab cd ef gh ab cd ef ghab cd ef gh\n",
       "7        ga  gb cd ef gh ab cd ef gh ab cd ef ghab cd ef gh\n",
       "8        ha  hb cd ef gh ab cd ef gh ab cd ef ghab cd ef gh\n",
       "9        ia  ib cd ef gh ab cd ef gh ab cd ef ghab cd ef gh\n",
       "10       ja  jb cd ef gh ab cd ef gh ab cd ef ghab cd ef gh\n",
       "11       ka  kb cd ef gh ab cd ef gh ab cd ef ghab cd ef gh\n",
       "12       la  lb cd ef gh ab cd ef gh ab cd ef ghab cd ef gh\n",
       "13       ma  mb cd ef gh ab cd ef gh ab cd ef ghab cd ef gh\n",
       "\n",
       "[5434 rows x 2 columns]"
      ]
     },
     "execution_count": 63,
     "metadata": {},
     "output_type": "execute_result"
    }
   ],
   "source": [
    "ds"
   ]
  },
  {
   "cell_type": "code",
   "execution_count": 52,
   "metadata": {},
   "outputs": [
    {
     "name": "stderr",
     "output_type": "stream",
     "text": [
      "E:\\Python\\Anaconda\\lib\\site-packages\\sklearn\\cross_validation.py:41: DeprecationWarning: This module was deprecated in version 0.18 in favor of the model_selection module into which all the refactored classes and functions are moved. Also note that the interface of the new CV iterators are different from that of this module. This module will be removed in 0.20.\n",
      "  \"This module will be removed in 0.20.\", DeprecationWarning)\n",
      "E:\\Python\\Anaconda\\lib\\site-packages\\sklearn\\grid_search.py:42: DeprecationWarning: This module was deprecated in version 0.18 in favor of the model_selection module into which all the refactored classes and functions are moved. This module will be removed in 0.20.\n",
      "  DeprecationWarning)\n"
     ]
    }
   ],
   "source": [
    "from sklearn.feature_extraction.text import CountVectorizer\n",
    "from sklearn.feature_extraction.text import TfidfTransformer\n",
    "from sklearn.linear_model import SGDClassifier\n",
    "from sklearn.grid_search import GridSearchCV\n",
    "from sklearn.pipeline import Pipeline"
   ]
  },
  {
   "cell_type": "code",
   "execution_count": 53,
   "metadata": {},
   "outputs": [],
   "source": [
    "# define the pipeline\n",
    "\n",
    "pipeline = Pipeline([('vect',CountVectorizer()),('tfidf',TfidfTransformer()),('clf',SGDClassifier())])"
   ]
  },
  {
   "cell_type": "code",
   "execution_count": 54,
   "metadata": {},
   "outputs": [
    {
     "data": {
      "text/plain": [
       "Pipeline(memory=None,\n",
       "     steps=[('vect', CountVectorizer(analyzer='word', binary=False, decode_error='strict',\n",
       "        dtype=<class 'numpy.int64'>, encoding='utf-8', input='content',\n",
       "        lowercase=True, max_df=1.0, max_features=None, min_df=1,\n",
       "        ngram_range=(1, 1), preprocessor=None, stop_words=None,\n",
       "        strip...='l2', power_t=0.5, random_state=None,\n",
       "       shuffle=True, tol=None, verbose=0, warm_start=False))])"
      ]
     },
     "execution_count": 54,
     "metadata": {},
     "output_type": "execute_result"
    }
   ],
   "source": [
    "pipeline"
   ]
  },
  {
   "cell_type": "code",
   "execution_count": 55,
   "metadata": {},
   "outputs": [],
   "source": [
    "# params for grid search\n",
    "params = {'tfidf__use_idf':(True, False) }"
   ]
  },
  {
   "cell_type": "code",
   "execution_count": 56,
   "metadata": {},
   "outputs": [],
   "source": [
    "# perform gridsearch with pipeline and parameters\n",
    "grid_search = GridSearchCV(pipeline, params, n_jobs=-1, verbose=1)"
   ]
  },
  {
   "cell_type": "code",
   "execution_count": 57,
   "metadata": {},
   "outputs": [
    {
     "name": "stdout",
     "output_type": "stream",
     "text": [
      "{'tfidf__use_idf': (True, False)}\n"
     ]
    }
   ],
   "source": [
    "pprint(params)"
   ]
  },
  {
   "cell_type": "code",
   "execution_count": 64,
   "metadata": {},
   "outputs": [
    {
     "name": "stdout",
     "output_type": "stream",
     "text": [
      "Fitting 3 folds for each of 2 candidates, totalling 6 fits\n"
     ]
    },
    {
     "name": "stderr",
     "output_type": "stream",
     "text": [
      "[Parallel(n_jobs=-1)]: Done   6 out of   6 | elapsed:   25.6s remaining:    0.0s\n",
      "[Parallel(n_jobs=-1)]: Done   6 out of   6 | elapsed:   25.6s finished\n",
      "E:\\Python\\Anaconda\\lib\\site-packages\\sklearn\\linear_model\\stochastic_gradient.py:128: FutureWarning: max_iter and tol parameters have been added in <class 'sklearn.linear_model.stochastic_gradient.SGDClassifier'> in 0.19. If both are left unset, they default to max_iter=5 and tol=None. If tol is not None, max_iter defaults to max_iter=1000. From 0.21, default max_iter will be 1000, and default tol will be 1e-3.\n",
      "  \"and default tol will be 1e-3.\" % type(self), FutureWarning)\n"
     ]
    },
    {
     "data": {
      "text/plain": [
       "GridSearchCV(cv=None, error_score='raise',\n",
       "       estimator=Pipeline(memory=None,\n",
       "     steps=[('vect', CountVectorizer(analyzer='word', binary=False, decode_error='strict',\n",
       "        dtype=<class 'numpy.int64'>, encoding='utf-8', input='content',\n",
       "        lowercase=True, max_df=1.0, max_features=None, min_df=1,\n",
       "        ngram_range=(1, 1), preprocessor=None, stop_words=None,\n",
       "        strip...='l2', power_t=0.5, random_state=None,\n",
       "       shuffle=True, tol=None, verbose=0, warm_start=False))]),\n",
       "       fit_params={}, iid=True, n_jobs=-1,\n",
       "       param_grid={'tfidf__use_idf': (True, False)},\n",
       "       pre_dispatch='2*n_jobs', refit=True, scoring=None, verbose=1)"
      ]
     },
     "execution_count": 64,
     "metadata": {},
     "output_type": "execute_result"
    }
   ],
   "source": [
    "grid_search.fit(ds['message'], ds['response'])"
   ]
  },
  {
   "cell_type": "code",
   "execution_count": null,
   "metadata": {},
   "outputs": [],
   "source": []
  }
 ],
 "metadata": {
  "kernelspec": {
   "display_name": "Python 3",
   "language": "python",
   "name": "python3"
  },
  "language_info": {
   "codemirror_mode": {
    "name": "ipython",
    "version": 3
   },
   "file_extension": ".py",
   "mimetype": "text/x-python",
   "name": "python",
   "nbconvert_exporter": "python",
   "pygments_lexer": "ipython3",
   "version": "3.6.4"
  }
 },
 "nbformat": 4,
 "nbformat_minor": 2
}
